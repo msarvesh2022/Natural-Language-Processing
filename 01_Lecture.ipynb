{
 "cells": [
  {
   "cell_type": "code",
   "execution_count": 17,
   "id": "eb9067ee-a38f-408a-a920-62f88e4502e9",
   "metadata": {},
   "outputs": [],
   "source": [
    "# !pip install nltk\n"
   ]
  },
  {
   "cell_type": "code",
   "execution_count": 1,
   "id": "5d8328cf-5566-4da9-a11d-1dc4d3d466cd",
   "metadata": {},
   "outputs": [],
   "source": [
    "import nltk"
   ]
  },
  {
   "cell_type": "code",
   "execution_count": 2,
   "id": "d9346971-0595-4de0-be98-031a05d53f21",
   "metadata": {},
   "outputs": [],
   "source": [
    "# nltk.download('punkt_tab')"
   ]
  },
  {
   "cell_type": "code",
   "execution_count": 3,
   "id": "e0cf146c-0883-463d-81e5-06125cea23a3",
   "metadata": {},
   "outputs": [],
   "source": [
    "corpus  = \"\"\" Hello all, I am sarvesh mishra from up. \n",
    "I am prepering for data scientist role.\n",
    "\"\"\""
   ]
  },
  {
   "cell_type": "code",
   "execution_count": 4,
   "id": "ad7de498-339f-40d9-a987-838892d5916a",
   "metadata": {},
   "outputs": [
    {
     "name": "stdout",
     "output_type": "stream",
     "text": [
      " Hello all, I am sarvesh mishra from up. \n",
      "I am prepering for data scientist role.\n",
      "\n"
     ]
    }
   ],
   "source": [
    "print(corpus)"
   ]
  },
  {
   "cell_type": "code",
   "execution_count": 5,
   "id": "e023f1eb-9e4a-4f50-8b6f-830326d906aa",
   "metadata": {},
   "outputs": [
    {
     "data": {
      "text/plain": [
       "' Hello all, I am sarvesh mishra from up. \\nI am prepering for data scientist role.\\n'"
      ]
     },
     "execution_count": 5,
     "metadata": {},
     "output_type": "execute_result"
    }
   ],
   "source": [
    "corpus\n"
   ]
  },
  {
   "cell_type": "code",
   "execution_count": 6,
   "id": "285c9457-3862-4d0a-b6d3-da5655bb74ca",
   "metadata": {},
   "outputs": [],
   "source": [
    "from nltk.tokenize import sent_tokenize"
   ]
  },
  {
   "cell_type": "code",
   "execution_count": 7,
   "id": "f7fffc71-57b0-4c2e-bd82-f828544e4397",
   "metadata": {},
   "outputs": [
    {
     "data": {
      "text/plain": [
       "[' Hello all, I am sarvesh mishra from up.',\n",
       " 'I am prepering for data scientist role.']"
      ]
     },
     "execution_count": 7,
     "metadata": {},
     "output_type": "execute_result"
    }
   ],
   "source": [
    "sent_tokenize(corpus)"
   ]
  },
  {
   "cell_type": "code",
   "execution_count": 8,
   "id": "26a5100e-338b-4598-98a0-192400064151",
   "metadata": {},
   "outputs": [],
   "source": [
    "sentences = sent_tokenize(corpus)"
   ]
  },
  {
   "cell_type": "code",
   "execution_count": 9,
   "id": "9c747aa4-f199-413b-a837-48508e15c905",
   "metadata": {},
   "outputs": [
    {
     "data": {
      "text/plain": [
       "list"
      ]
     },
     "execution_count": 9,
     "metadata": {},
     "output_type": "execute_result"
    }
   ],
   "source": [
    "type(sentences)"
   ]
  },
  {
   "cell_type": "code",
   "execution_count": 10,
   "id": "cafc8114-71bd-437f-8e16-7a5f3a795c8b",
   "metadata": {},
   "outputs": [],
   "source": [
    "from nltk.tokenize import word_tokenize"
   ]
  },
  {
   "cell_type": "code",
   "execution_count": 11,
   "id": "4f39c9f4-7c0b-4462-ac91-236592fddb46",
   "metadata": {},
   "outputs": [
    {
     "data": {
      "text/plain": [
       "['Hello',\n",
       " 'all',\n",
       " ',',\n",
       " 'I',\n",
       " 'am',\n",
       " 'sarvesh',\n",
       " 'mishra',\n",
       " 'from',\n",
       " 'up',\n",
       " '.',\n",
       " 'I',\n",
       " 'am',\n",
       " 'prepering',\n",
       " 'for',\n",
       " 'data',\n",
       " 'scientist',\n",
       " 'role',\n",
       " '.']"
      ]
     },
     "execution_count": 11,
     "metadata": {},
     "output_type": "execute_result"
    }
   ],
   "source": [
    "word_tokenize(corpus)"
   ]
  },
  {
   "cell_type": "code",
   "execution_count": 12,
   "id": "74d66470-865d-4150-b80d-90964711087c",
   "metadata": {},
   "outputs": [
    {
     "data": {
      "text/plain": [
       "list"
      ]
     },
     "execution_count": 12,
     "metadata": {},
     "output_type": "execute_result"
    }
   ],
   "source": [
    "type(word_tokenize(corpus))"
   ]
  },
  {
   "cell_type": "code",
   "execution_count": 13,
   "id": "753fd19e-4977-44d3-bb2e-035b0f263070",
   "metadata": {},
   "outputs": [],
   "source": [
    "from nltk.tokenize import TreebankWordTokenizer"
   ]
  },
  {
   "cell_type": "code",
   "execution_count": 14,
   "id": "b2f97f3c-c1d4-4d0b-9789-13a162cdcec3",
   "metadata": {},
   "outputs": [],
   "source": [
    "tree= TreebankWordTokenizer()"
   ]
  },
  {
   "cell_type": "code",
   "execution_count": 15,
   "id": "2f5b1ecf-ebf5-475e-a79d-46bd566cef8c",
   "metadata": {},
   "outputs": [
    {
     "data": {
      "text/plain": [
       "['Hello',\n",
       " 'all',\n",
       " ',',\n",
       " 'I',\n",
       " 'am',\n",
       " 'sarvesh',\n",
       " 'mishra',\n",
       " 'from',\n",
       " 'up.',\n",
       " 'I',\n",
       " 'am',\n",
       " 'prepering',\n",
       " 'for',\n",
       " 'data',\n",
       " 'scientist',\n",
       " 'role',\n",
       " '.']"
      ]
     },
     "execution_count": 15,
     "metadata": {},
     "output_type": "execute_result"
    }
   ],
   "source": [
    "tree.tokenize(corpus)"
   ]
  },
  {
   "cell_type": "code",
   "execution_count": 16,
   "id": "4c8011b6-7481-40cd-b051-e08c818f81b3",
   "metadata": {},
   "outputs": [
    {
     "data": {
      "text/plain": [
       "['Hello',\n",
       " 'all',\n",
       " ',',\n",
       " 'I',\n",
       " 'am',\n",
       " 'sarvesh',\n",
       " 'mishra',\n",
       " 'from',\n",
       " 'up',\n",
       " '.',\n",
       " 'I',\n",
       " 'am',\n",
       " 'prepering',\n",
       " 'for',\n",
       " 'data',\n",
       " 'scientist',\n",
       " 'role',\n",
       " '.']"
      ]
     },
     "execution_count": 16,
     "metadata": {},
     "output_type": "execute_result"
    }
   ],
   "source": [
    "word_tokenize(corpus)"
   ]
  },
  {
   "cell_type": "markdown",
   "id": "e6eb0684-c6a9-4e44-8ab2-a8ba2d76ba50",
   "metadata": {},
   "source": [
    " ## Steaming"
   ]
  },
  {
   "cell_type": "code",
   "execution_count": 17,
   "id": "6ca5b3e8-ee81-4db2-a51f-9d4d03da8cad",
   "metadata": {},
   "outputs": [],
   "source": [
    "from nltk.stem import PorterStemmer"
   ]
  },
  {
   "cell_type": "code",
   "execution_count": 18,
   "id": "eec7ab0a-ac3c-4bfd-a27e-ea4c6b09beaa",
   "metadata": {},
   "outputs": [],
   "source": [
    "stemming = PorterStemmer()"
   ]
  },
  {
   "cell_type": "code",
   "execution_count": 19,
   "id": "3c088e9e-70fa-4b2b-8066-ff4778fbe3e0",
   "metadata": {},
   "outputs": [
    {
     "data": {
      "text/plain": [
       "'write'"
      ]
     },
     "execution_count": 19,
     "metadata": {},
     "output_type": "execute_result"
    }
   ],
   "source": [
    "stemming.stem('Writing')"
   ]
  },
  {
   "cell_type": "code",
   "execution_count": 20,
   "id": "7c2f8e9a-8f41-424a-aac1-0dcba19232ba",
   "metadata": {},
   "outputs": [
    {
     "data": {
      "text/plain": [
       "'eat'"
      ]
     },
     "execution_count": 20,
     "metadata": {},
     "output_type": "execute_result"
    }
   ],
   "source": [
    "stemming.stem('eating') "
   ]
  },
  {
   "cell_type": "code",
   "execution_count": 21,
   "id": "f1430981-06af-4203-b487-3bc36053fbda",
   "metadata": {},
   "outputs": [
    {
     "data": {
      "text/plain": [
       "' hello everyone i am going for the walk and will be eating fruit'"
      ]
     },
     "execution_count": 21,
     "metadata": {},
     "output_type": "execute_result"
    }
   ],
   "source": [
    "stemming.stem(' Hello everyone I am going for the walk and will be eating fruits')"
   ]
  },
  {
   "cell_type": "code",
   "execution_count": 22,
   "id": "0d0c5cc0-b64f-454c-9515-f93b7acb5736",
   "metadata": {},
   "outputs": [
    {
     "data": {
      "text/plain": [
       "'go'"
      ]
     },
     "execution_count": 22,
     "metadata": {},
     "output_type": "execute_result"
    }
   ],
   "source": [
    "stemming.stem('going')"
   ]
  },
  {
   "cell_type": "code",
   "execution_count": 23,
   "id": "6f724742-ee39-46fb-bd56-f420e9ed7ee5",
   "metadata": {},
   "outputs": [],
   "source": [
    "from nltk.tokenize import word_tokenize"
   ]
  },
  {
   "cell_type": "code",
   "execution_count": 24,
   "id": "fde1aab6-fc38-4f1b-983b-99473e13c8f3",
   "metadata": {},
   "outputs": [],
   "source": [
    "sentence= ' Hello everyone I am going for the walk and will be eating fruits'\n",
    "words= word_tokenize(sentence)"
   ]
  },
  {
   "cell_type": "code",
   "execution_count": 25,
   "id": "dba76ea8-1898-4d1e-97cb-b051c64da745",
   "metadata": {},
   "outputs": [
    {
     "data": {
      "text/plain": [
       "['Hello',\n",
       " 'everyone',\n",
       " 'I',\n",
       " 'am',\n",
       " 'going',\n",
       " 'for',\n",
       " 'the',\n",
       " 'walk',\n",
       " 'and',\n",
       " 'will',\n",
       " 'be',\n",
       " 'eating',\n",
       " 'fruits']"
      ]
     },
     "execution_count": 25,
     "metadata": {},
     "output_type": "execute_result"
    }
   ],
   "source": [
    "words"
   ]
  },
  {
   "cell_type": "code",
   "execution_count": 26,
   "id": "cc88c3b5-7096-424f-bc04-f3b7aa23b521",
   "metadata": {},
   "outputs": [
    {
     "data": {
      "text/plain": [
       "'everyon'"
      ]
     },
     "execution_count": 26,
     "metadata": {},
     "output_type": "execute_result"
    }
   ],
   "source": [
    "stemming.stem(words[1])"
   ]
  },
  {
   "cell_type": "markdown",
   "id": "67cec9d0-55c3-4908-bfc9-c85e5f4c6de1",
   "metadata": {},
   "source": [
    "## Lammetization"
   ]
  },
  {
   "cell_type": "code",
   "execution_count": 27,
   "id": "f05973aa-39b6-4b15-a194-e88d9bfa9975",
   "metadata": {},
   "outputs": [],
   "source": [
    "from nltk.stem import WordNetLemmatizer"
   ]
  },
  {
   "cell_type": "code",
   "execution_count": 28,
   "id": "ce5740ac-d802-444c-990d-cc7e9e850239",
   "metadata": {},
   "outputs": [],
   "source": [
    "lem= WordNetLemmatizer()"
   ]
  },
  {
   "cell_type": "code",
   "execution_count": 29,
   "id": "3a9d57c5-6a48-470b-93b9-5bf1d9405b23",
   "metadata": {},
   "outputs": [],
   "source": [
    "# nltk.download('wordnet')"
   ]
  },
  {
   "cell_type": "code",
   "execution_count": 30,
   "id": "9a9acda1-ff0a-4bce-9634-37b5c151bd37",
   "metadata": {},
   "outputs": [],
   "source": [
    "words= [\"Sarvesh\", \"Eats\",\"Eating\", \"going\", \"go\"]"
   ]
  },
  {
   "cell_type": "code",
   "execution_count": 31,
   "id": "c568a559-a344-4c20-9e94-85d8a6b4b803",
   "metadata": {},
   "outputs": [
    {
     "data": {
      "text/plain": [
       "['Sarvesh', 'Eats', 'Eating', 'going', 'go']"
      ]
     },
     "execution_count": 31,
     "metadata": {},
     "output_type": "execute_result"
    }
   ],
   "source": [
    "words"
   ]
  },
  {
   "cell_type": "code",
   "execution_count": 32,
   "id": "297d0d33-0ed9-47b0-bee3-36722692272a",
   "metadata": {},
   "outputs": [
    {
     "data": {
      "text/plain": [
       "'program'"
      ]
     },
     "execution_count": 32,
     "metadata": {},
     "output_type": "execute_result"
    }
   ],
   "source": [
    "lem.lemmatize(\"programs\")"
   ]
  },
  {
   "cell_type": "code",
   "execution_count": 33,
   "id": "04835ab8-0d4c-4a18-a847-6e28623a9394",
   "metadata": {},
   "outputs": [
    {
     "name": "stdout",
     "output_type": "stream",
     "text": [
      "Sarvesh ----Sarvesh\n",
      "Eats ----Eats\n",
      "Eating ----Eating\n",
      "going ----go\n",
      "go ----go\n"
     ]
    }
   ],
   "source": [
    "for word in words:\n",
    "    print(word ,\"----\"+lem.lemmatize(word, pos='v'))"
   ]
  },
  {
   "cell_type": "markdown",
   "id": "410b5c8f-84a5-4126-8c21-f11311874b9b",
   "metadata": {},
   "source": [
    "## Stopwords"
   ]
  },
  {
   "cell_type": "code",
   "execution_count": 34,
   "id": "fc4629f6-4385-4fa4-b9d5-227c946bd489",
   "metadata": {},
   "outputs": [],
   "source": [
    "from nltk.corpus import stopwords"
   ]
  },
  {
   "cell_type": "code",
   "execution_count": 35,
   "id": "ad3fe46a-19b3-4c54-a3a6-b5f9ceee13af",
   "metadata": {},
   "outputs": [],
   "source": [
    "# nltk.download('stopwords')"
   ]
  },
  {
   "cell_type": "code",
   "execution_count": 36,
   "id": "21e3227a-6e4e-4d1f-87ae-284dcaeddcef",
   "metadata": {},
   "outputs": [],
   "source": [
    "stw= stopwords.words('english')"
   ]
  },
  {
   "cell_type": "code",
   "execution_count": 11,
   "id": "6958ad08-b6bb-4593-b68e-fc54dff1913c",
   "metadata": {},
   "outputs": [],
   "source": [
    "paragraph = \"\"\" Artificial Intelligence (AI) is a branch of computer science that aims to create systems capable of performing tasks \n",
    "that typically require human intelligence, such as learning, reasoning, problem-solving, perception, and language understanding. \n",
    "AI has evolved significantly over the years, starting from simple rule-based systems to advanced machine learning \n",
    "models that can process vast amounts of data. The field of AI is broadly categorized into narrow AI, which is designed for\n",
    "specific tasks like image recognition or speech processing, and general AI, which aims to mimic human intelligence across \n",
    "multiple domains. AI technologies such as natural language processing (NLP), computer vision, deep learning, and reinforcement \n",
    "learning have revolutionized industries including healthcare, finance, manufacturing, and entertainment. In healthcare,\n",
    "AI-powered tools assist in diagnosing diseases, personalizing treatment plans, and even \n",
    "predicting potential outbreaks by analyzing vast datasets.\"\"\""
   ]
  },
  {
   "cell_type": "code",
   "execution_count": 38,
   "id": "7535757f-afaa-49fe-b1a8-25dcab53cc62",
   "metadata": {},
   "outputs": [],
   "source": [
    "from nltk.tokenize import sent_tokenize, word_tokenize"
   ]
  },
  {
   "cell_type": "code",
   "execution_count": 39,
   "id": "2b134396-e8eb-42a5-b9d9-d9322eb9e5ad",
   "metadata": {},
   "outputs": [],
   "source": [
    "sentence= sent_tokenize(paragraph)"
   ]
  },
  {
   "cell_type": "code",
   "execution_count": 40,
   "id": "7e19e6ea-10c7-4d71-b0a0-8df2da01f4b7",
   "metadata": {},
   "outputs": [
    {
     "data": {
      "text/plain": [
       "[' Artificial Intelligence (AI) is a branch of computer science that aims to create systems capable of performing tasks \\nthat typically require human intelligence, such as learning, reasoning, problem-solving, perception, and language understanding.',\n",
       " 'AI has evolved significantly over the years, starting from simple rule-based systems to advanced machine learning \\nmodels that can process vast amounts of data.',\n",
       " 'The field of AI is broadly categorized into narrow AI, which is designed for\\nspecific tasks like image recognition or speech processing, and general AI, which aims to mimic human intelligence across \\nmultiple domains.',\n",
       " 'AI technologies such as natural language processing (NLP), computer vision, deep learning, and reinforcement \\nlearning have revolutionized industries including healthcare, finance, manufacturing, and entertainment.',\n",
       " 'In healthcare,\\nAI-powered tools assist in diagnosing diseases, personalizing treatment plans, and even \\npredicting potential outbreaks by analyzing vast datasets.']"
      ]
     },
     "execution_count": 40,
     "metadata": {},
     "output_type": "execute_result"
    }
   ],
   "source": [
    "sentence"
   ]
  },
  {
   "cell_type": "code",
   "execution_count": 49,
   "id": "01a77215-14da-43fe-8e43-2f4396dff435",
   "metadata": {},
   "outputs": [
    {
     "name": "stdout",
     "output_type": "stream",
     "text": [
      "Artificial Intelligence ( AI ) branch computer science aims create systems capable performing tasks typically require human intelligence , learning , reasoning , problem-solving , perception , language understanding . AI evolved significantly years , starting simple rule-based systems advanced machine learning models process vast amounts data . field AI broadly categorized narrow AI , designed specific tasks like image recognition speech processing , general AI , aims mimic human intelligence across multiple domains . AI technologies natural language processing ( NLP ) , computer vision , deep learning , reinforcement learning revolutionized industries including healthcare , finance , manufacturing , entertainment . healthcare , AI-powered tools assist diagnosing diseases , personalizing treatment plans , even predicting potential outbreaks analyzing vast datasets .\n"
     ]
    }
   ],
   "source": [
    "words= word_tokenize(paragraph)\n",
    "stop_words= set(stopwords.words('english'))\n",
    "filterd_words= [word for word in words if word.lower() not in stop_words]\n",
    "final_words= \" \".join(filterd_words)\n",
    "print(final_words)\n",
    "\n"
   ]
  },
  {
   "cell_type": "code",
   "execution_count": 41,
   "id": "31666224-33b2-4dc2-b4bf-32b3036cc887",
   "metadata": {},
   "outputs": [],
   "source": [
    "words= word_tokenize(paragraph)"
   ]
  },
  {
   "cell_type": "code",
   "execution_count": 42,
   "id": "7a9dd1c1-de68-4868-9647-5a74b90d6867",
   "metadata": {},
   "outputs": [],
   "source": [
    "stop_words= set(stopwords.words('english'))"
   ]
  },
  {
   "cell_type": "code",
   "execution_count": 43,
   "id": "b783e41e-4475-467a-ad60-c2248782183f",
   "metadata": {},
   "outputs": [],
   "source": [
    "filterd_words= [word for word in words if word.lower() not in stop_words]"
   ]
  },
  {
   "cell_type": "code",
   "execution_count": 44,
   "id": "7c5aa9bd-466b-43a1-add4-6ac220183571",
   "metadata": {},
   "outputs": [],
   "source": [
    "final_words= \" \".join(filterd_words)"
   ]
  },
  {
   "cell_type": "code",
   "execution_count": 45,
   "id": "bc541ec1-f6d4-4c23-8750-2bdd9c7d85a7",
   "metadata": {},
   "outputs": [
    {
     "data": {
      "text/plain": [
       "'Artificial Intelligence ( AI ) branch computer science aims create systems capable performing tasks typically require human intelligence , learning , reasoning , problem-solving , perception , language understanding . AI evolved significantly years , starting simple rule-based systems advanced machine learning models process vast amounts data . field AI broadly categorized narrow AI , designed specific tasks like image recognition speech processing , general AI , aims mimic human intelligence across multiple domains . AI technologies natural language processing ( NLP ) , computer vision , deep learning , reinforcement learning revolutionized industries including healthcare , finance , manufacturing , entertainment . healthcare , AI-powered tools assist diagnosing diseases , personalizing treatment plans , even predicting potential outbreaks analyzing vast datasets .'"
      ]
     },
     "execution_count": 45,
     "metadata": {},
     "output_type": "execute_result"
    }
   ],
   "source": [
    "final_words"
   ]
  },
  {
   "cell_type": "code",
   "execution_count": 46,
   "id": "4aef24e8-3b6b-44c7-a5a1-9aa59ff16d4f",
   "metadata": {},
   "outputs": [
    {
     "data": {
      "text/plain": [
       "878"
      ]
     },
     "execution_count": 46,
     "metadata": {},
     "output_type": "execute_result"
    }
   ],
   "source": [
    "len(final_words)"
   ]
  },
  {
   "cell_type": "code",
   "execution_count": 47,
   "id": "fd84c2b5-a755-4a9c-8d58-082a3330772f",
   "metadata": {},
   "outputs": [
    {
     "data": {
      "text/plain": [
       "1005"
      ]
     },
     "execution_count": 47,
     "metadata": {},
     "output_type": "execute_result"
    }
   ],
   "source": [
    "len(paragraph)"
   ]
  },
  {
   "cell_type": "markdown",
   "id": "c73cfcd1-2517-4088-a9ab-9b9ebb95aacb",
   "metadata": {},
   "source": [
    "## Parts of speech tagging using NLP"
   ]
  },
  {
   "cell_type": "code",
   "execution_count": 53,
   "id": "8a5af855-8e4b-4314-aae2-7e66f9733cf0",
   "metadata": {},
   "outputs": [
    {
     "name": "stderr",
     "output_type": "stream",
     "text": [
      "[nltk_data] Downloading package averaged_perceptron_tagger_eng to\n",
      "[nltk_data]     C:\\Users\\DELL\\AppData\\Roaming\\nltk_data...\n",
      "[nltk_data]   Unzipping taggers\\averaged_perceptron_tagger_eng.zip.\n"
     ]
    },
    {
     "data": {
      "text/plain": [
       "True"
      ]
     },
     "execution_count": 53,
     "metadata": {},
     "output_type": "execute_result"
    }
   ],
   "source": [
    "#nltk.download('averaged_perceptron_tagger_eng')"
   ]
  },
  {
   "cell_type": "code",
   "execution_count": 54,
   "id": "93a8f64f-f714-438f-ad3e-818830f0532a",
   "metadata": {},
   "outputs": [
    {
     "data": {
      "text/plain": [
       "[('Artificial', 'JJ'),\n",
       " ('Intelligence', 'NNP'),\n",
       " ('(', '('),\n",
       " ('AI', 'NNP'),\n",
       " (')', ')'),\n",
       " ('branch', 'NN'),\n",
       " ('computer', 'NN'),\n",
       " ('science', 'NN'),\n",
       " ('aims', 'JJ'),\n",
       " ('create', 'NN'),\n",
       " ('systems', 'NNS'),\n",
       " ('capable', 'JJ'),\n",
       " ('performing', 'VBG'),\n",
       " ('tasks', 'NNS'),\n",
       " ('typically', 'RB'),\n",
       " ('require', 'VBP'),\n",
       " ('human', 'JJ'),\n",
       " ('intelligence', 'NN'),\n",
       " (',', ','),\n",
       " ('learning', 'NN'),\n",
       " (',', ','),\n",
       " ('reasoning', 'VBG'),\n",
       " (',', ','),\n",
       " ('problem-solving', 'NN'),\n",
       " (',', ','),\n",
       " ('perception', 'NN'),\n",
       " (',', ','),\n",
       " ('language', 'NN'),\n",
       " ('understanding', 'NN'),\n",
       " ('.', '.'),\n",
       " ('AI', 'NNP'),\n",
       " ('evolved', 'VBD'),\n",
       " ('significantly', 'RB'),\n",
       " ('years', 'NNS'),\n",
       " (',', ','),\n",
       " ('starting', 'VBG'),\n",
       " ('simple', 'JJ'),\n",
       " ('rule-based', 'JJ'),\n",
       " ('systems', 'NNS'),\n",
       " ('advanced', 'VBD'),\n",
       " ('machine', 'NN'),\n",
       " ('learning', 'VBG'),\n",
       " ('models', 'NNS'),\n",
       " ('process', 'NN'),\n",
       " ('vast', 'JJ'),\n",
       " ('amounts', 'NNS'),\n",
       " ('data', 'NNS'),\n",
       " ('.', '.'),\n",
       " ('field', 'NN'),\n",
       " ('AI', 'NNP'),\n",
       " ('broadly', 'RB'),\n",
       " ('categorized', 'VBD'),\n",
       " ('narrow', 'JJ'),\n",
       " ('AI', 'NNP'),\n",
       " (',', ','),\n",
       " ('designed', 'VBN'),\n",
       " ('specific', 'JJ'),\n",
       " ('tasks', 'NNS'),\n",
       " ('like', 'IN'),\n",
       " ('image', 'NN'),\n",
       " ('recognition', 'NN'),\n",
       " ('speech', 'NN'),\n",
       " ('processing', 'NN'),\n",
       " (',', ','),\n",
       " ('general', 'JJ'),\n",
       " ('AI', 'NNP'),\n",
       " (',', ','),\n",
       " ('aims', 'VBZ'),\n",
       " ('mimic', 'JJ'),\n",
       " ('human', 'JJ'),\n",
       " ('intelligence', 'NN'),\n",
       " ('across', 'IN'),\n",
       " ('multiple', 'JJ'),\n",
       " ('domains', 'NNS'),\n",
       " ('.', '.'),\n",
       " ('AI', 'NNP'),\n",
       " ('technologies', 'VBZ'),\n",
       " ('natural', 'JJ'),\n",
       " ('language', 'NN'),\n",
       " ('processing', 'NN'),\n",
       " ('(', '('),\n",
       " ('NLP', 'NNP'),\n",
       " (')', ')'),\n",
       " (',', ','),\n",
       " ('computer', 'NN'),\n",
       " ('vision', 'NN'),\n",
       " (',', ','),\n",
       " ('deep', 'JJ'),\n",
       " ('learning', 'NN'),\n",
       " (',', ','),\n",
       " ('reinforcement', 'NN'),\n",
       " ('learning', 'VBG'),\n",
       " ('revolutionized', 'JJ'),\n",
       " ('industries', 'NNS'),\n",
       " ('including', 'VBG'),\n",
       " ('healthcare', 'NN'),\n",
       " (',', ','),\n",
       " ('finance', 'NN'),\n",
       " (',', ','),\n",
       " ('manufacturing', 'NN'),\n",
       " (',', ','),\n",
       " ('entertainment', 'NN'),\n",
       " ('.', '.'),\n",
       " ('healthcare', 'NN'),\n",
       " (',', ','),\n",
       " ('AI-powered', 'NNP'),\n",
       " ('tools', 'NNS'),\n",
       " ('assist', 'VBP'),\n",
       " ('diagnosing', 'VBG'),\n",
       " ('diseases', 'NNS'),\n",
       " (',', ','),\n",
       " ('personalizing', 'VBG'),\n",
       " ('treatment', 'NN'),\n",
       " ('plans', 'NNS'),\n",
       " (',', ','),\n",
       " ('even', 'RB'),\n",
       " ('predicting', 'VBG'),\n",
       " ('potential', 'JJ'),\n",
       " ('outbreaks', 'NNS'),\n",
       " ('analyzing', 'VBG'),\n",
       " ('vast', 'JJ'),\n",
       " ('datasets', 'NNS'),\n",
       " ('.', '.')]"
      ]
     },
     "execution_count": 54,
     "metadata": {},
     "output_type": "execute_result"
    }
   ],
   "source": [
    "words= word_tokenize(paragraph)\n",
    "stop_words= set(stopwords.words('english'))\n",
    "filterd_words= [word for word in words if word.lower() not in stop_words]\n",
    "pos_words= nltk.pos_tag(filterd_words)\n",
    "#final_words= \" \".join(filterd_words)\n",
    "#print(final_words)\n",
    "pos_words"
   ]
  },
  {
   "cell_type": "markdown",
   "id": "e7a135d3-3404-4f24-9bce-c7076e85dae1",
   "metadata": {},
   "source": [
    "## Name Entity"
   ]
  },
  {
   "cell_type": "code",
   "execution_count": 58,
   "id": "7ae13b80-b2af-4241-9ecb-80ad5b905065",
   "metadata": {},
   "outputs": [],
   "source": [
    "#nltk.download('maxent_ne_chunker_tab')"
   ]
  },
  {
   "cell_type": "code",
   "execution_count": 61,
   "id": "d4c6caea-02dc-4437-bf75-b657e9b6c8ce",
   "metadata": {},
   "outputs": [
    {
     "name": "stderr",
     "output_type": "stream",
     "text": [
      "[nltk_data] Downloading package words to\n",
      "[nltk_data]     C:\\Users\\DELL\\AppData\\Roaming\\nltk_data...\n",
      "[nltk_data]   Unzipping corpora\\words.zip.\n"
     ]
    },
    {
     "data": {
      "text/plain": [
       "True"
      ]
     },
     "execution_count": 61,
     "metadata": {},
     "output_type": "execute_result"
    }
   ],
   "source": [
    "#nltk.download('words')"
   ]
  },
  {
   "cell_type": "code",
   "execution_count": 64,
   "id": "bd4fe865-bd6c-4d6f-973e-2483b3097376",
   "metadata": {},
   "outputs": [],
   "source": [
    "#nltk.ne_chunk(pos_words).draw()"
   ]
  },
  {
   "cell_type": "markdown",
   "id": "08e5e98e-fee0-420d-92a2-f8e1e9fa3760",
   "metadata": {},
   "source": [
    "## TFIDF"
   ]
  },
  {
   "cell_type": "code",
   "execution_count": 9,
   "id": "d76e1fd2-a32f-4a04-af7f-cc444f14ea85",
   "metadata": {},
   "outputs": [],
   "source": [
    "import sklearn"
   ]
  },
  {
   "cell_type": "code",
   "execution_count": 10,
   "id": "8669e212-f95e-412d-a2d7-f20d4d53018a",
   "metadata": {},
   "outputs": [],
   "source": [
    "from sklearn.feature_extraction.text import TfidfVectorizer"
   ]
  },
  {
   "cell_type": "code",
   "execution_count": 45,
   "id": "bfb0d30a-88f7-4f70-b088-f49459d92488",
   "metadata": {},
   "outputs": [],
   "source": [
    "vectorizer= TfidfVectorizer(stop_words='english')"
   ]
  },
  {
   "cell_type": "code",
   "execution_count": 15,
   "id": "f61e5b80-67d9-47e5-8ca3-579094c9d61d",
   "metadata": {},
   "outputs": [],
   "source": [
    "from nltk.tokenize import sent_tokenize"
   ]
  },
  {
   "cell_type": "code",
   "execution_count": 16,
   "id": "cdb1968b-27d8-414f-b758-9cd0a59943fc",
   "metadata": {},
   "outputs": [],
   "source": [
    "para= sent_tokenize(paragraph)"
   ]
  },
  {
   "cell_type": "code",
   "execution_count": 27,
   "id": "0f85bbcc-9b65-4181-9639-70ddb4b38e4f",
   "metadata": {},
   "outputs": [
    {
     "data": {
      "text/plain": [
       "5"
      ]
     },
     "execution_count": 27,
     "metadata": {},
     "output_type": "execute_result"
    }
   ],
   "source": [
    "len(para)"
   ]
  },
  {
   "cell_type": "code",
   "execution_count": 43,
   "id": "b8acbf70-8351-4574-960b-b05a8af7280a",
   "metadata": {},
   "outputs": [
    {
     "data": {
      "text/plain": [
       "[' Artificial Intelligence (AI) is a branch of computer science that aims to create systems capable of performing tasks \\nthat typically require human intelligence, such as learning, reasoning, problem-solving, perception, and language understanding.',\n",
       " 'AI has evolved significantly over the years, starting from simple rule-based systems to advanced machine learning \\nmodels that can process vast amounts of data.',\n",
       " 'The field of AI is broadly categorized into narrow AI, which is designed for\\nspecific tasks like image recognition or speech processing, and general AI, which aims to mimic human intelligence across \\nmultiple domains.',\n",
       " 'AI technologies such as natural language processing (NLP), computer vision, deep learning, and reinforcement \\nlearning have revolutionized industries including healthcare, finance, manufacturing, and entertainment.',\n",
       " 'In healthcare,\\nAI-powered tools assist in diagnosing diseases, personalizing treatment plans, and even \\npredicting potential outbreaks by analyzing vast datasets.']"
      ]
     },
     "execution_count": 43,
     "metadata": {},
     "output_type": "execute_result"
    }
   ],
   "source": [
    "para"
   ]
  },
  {
   "cell_type": "code",
   "execution_count": 46,
   "id": "ed2857a0-b6a8-494d-8ebb-abfacc5d4f5d",
   "metadata": {},
   "outputs": [],
   "source": [
    "X= vectorizer.fit_transform(para)"
   ]
  },
  {
   "cell_type": "code",
   "execution_count": 47,
   "id": "c870fc0a-529d-4ab3-aa34-3a06353503cc",
   "metadata": {},
   "outputs": [
    {
     "data": {
      "text/plain": [
       "array([[0.        , 0.10606114, 0.17957712, 0.        , 0.        ,\n",
       "        0.22258121, 0.        , 0.        , 0.22258121, 0.        ,\n",
       "        0.22258121, 0.        , 0.17957712, 0.22258121, 0.        ,\n",
       "        0.        , 0.        , 0.        , 0.        , 0.        ,\n",
       "        0.        , 0.        , 0.        , 0.        , 0.        ,\n",
       "        0.        , 0.        , 0.17957712, 0.        , 0.        ,\n",
       "        0.        , 0.35915424, 0.17957712, 0.14906523, 0.        ,\n",
       "        0.        , 0.        , 0.        , 0.        , 0.        ,\n",
       "        0.        , 0.        , 0.        , 0.        , 0.22258121,\n",
       "        0.22258121, 0.        , 0.        , 0.        , 0.        ,\n",
       "        0.        , 0.22258121, 0.        , 0.        , 0.22258121,\n",
       "        0.        , 0.        , 0.22258121, 0.        , 0.        ,\n",
       "        0.22258121, 0.        , 0.        , 0.22258121, 0.        ,\n",
       "        0.        , 0.        , 0.17957712, 0.17957712, 0.        ,\n",
       "        0.        , 0.        , 0.22258121, 0.22258121, 0.        ,\n",
       "        0.        , 0.        ],\n",
       "       [0.25839359, 0.12312593, 0.        , 0.25839359, 0.        ,\n",
       "        0.        , 0.        , 0.25839359, 0.        , 0.        ,\n",
       "        0.        , 0.        , 0.        , 0.        , 0.25839359,\n",
       "        0.        , 0.        , 0.        , 0.        , 0.        ,\n",
       "        0.        , 0.        , 0.25839359, 0.        , 0.        ,\n",
       "        0.        , 0.        , 0.        , 0.        , 0.        ,\n",
       "        0.        , 0.        , 0.        , 0.1730492 , 0.        ,\n",
       "        0.25839359, 0.        , 0.        , 0.25839359, 0.        ,\n",
       "        0.        , 0.        , 0.        , 0.        , 0.        ,\n",
       "        0.        , 0.        , 0.        , 0.        , 0.        ,\n",
       "        0.        , 0.        , 0.25839359, 0.        , 0.        ,\n",
       "        0.        , 0.        , 0.        , 0.        , 0.25839359,\n",
       "        0.        , 0.25839359, 0.25839359, 0.        , 0.        ,\n",
       "        0.        , 0.25839359, 0.20847032, 0.        , 0.        ,\n",
       "        0.        , 0.        , 0.        , 0.        , 0.20847032,\n",
       "        0.        , 0.25839359],\n",
       "       [0.        , 0.32541068, 0.18365606, 0.        , 0.        ,\n",
       "        0.        , 0.        , 0.        , 0.        , 0.22763695,\n",
       "        0.        , 0.22763695, 0.        , 0.        , 0.        ,\n",
       "        0.        , 0.        , 0.22763695, 0.        , 0.        ,\n",
       "        0.22763695, 0.        , 0.        , 0.22763695, 0.        ,\n",
       "        0.22763695, 0.        , 0.18365606, 0.22763695, 0.        ,\n",
       "        0.        , 0.18365606, 0.        , 0.        , 0.22763695,\n",
       "        0.        , 0.        , 0.22763695, 0.        , 0.22763695,\n",
       "        0.22763695, 0.        , 0.        , 0.        , 0.        ,\n",
       "        0.        , 0.        , 0.        , 0.        , 0.        ,\n",
       "        0.        , 0.        , 0.        , 0.18365606, 0.        ,\n",
       "        0.22763695, 0.        , 0.        , 0.        , 0.        ,\n",
       "        0.        , 0.        , 0.        , 0.        , 0.22763695,\n",
       "        0.22763695, 0.        , 0.        , 0.18365606, 0.        ,\n",
       "        0.        , 0.        , 0.        , 0.        , 0.        ,\n",
       "        0.        , 0.        ],\n",
       "       [0.        , 0.11686646, 0.        , 0.        , 0.        ,\n",
       "        0.        , 0.        , 0.        , 0.        , 0.        ,\n",
       "        0.        , 0.        , 0.19787211, 0.        , 0.        ,\n",
       "        0.        , 0.24525738, 0.        , 0.        , 0.        ,\n",
       "        0.        , 0.24525738, 0.        , 0.        , 0.24525738,\n",
       "        0.        , 0.19787211, 0.        , 0.        , 0.24525738,\n",
       "        0.24525738, 0.        , 0.19787211, 0.32850346, 0.        ,\n",
       "        0.        , 0.24525738, 0.        , 0.        , 0.        ,\n",
       "        0.        , 0.24525738, 0.24525738, 0.        , 0.        ,\n",
       "        0.        , 0.        , 0.        , 0.        , 0.        ,\n",
       "        0.        , 0.        , 0.        , 0.19787211, 0.        ,\n",
       "        0.        , 0.24525738, 0.        , 0.24525738, 0.        ,\n",
       "        0.        , 0.        , 0.        , 0.        , 0.        ,\n",
       "        0.        , 0.        , 0.        , 0.        , 0.24525738,\n",
       "        0.        , 0.        , 0.        , 0.        , 0.        ,\n",
       "        0.24525738, 0.        ],\n",
       "       [0.        , 0.12501196, 0.        , 0.        , 0.26235164,\n",
       "        0.        , 0.26235164, 0.        , 0.        , 0.        ,\n",
       "        0.        , 0.        , 0.        , 0.        , 0.        ,\n",
       "        0.26235164, 0.        , 0.        , 0.26235164, 0.26235164,\n",
       "        0.        , 0.        , 0.        , 0.        , 0.        ,\n",
       "        0.        , 0.21166365, 0.        , 0.        , 0.        ,\n",
       "        0.        , 0.        , 0.        , 0.        , 0.        ,\n",
       "        0.        , 0.        , 0.        , 0.        , 0.        ,\n",
       "        0.        , 0.        , 0.        , 0.26235164, 0.        ,\n",
       "        0.        , 0.26235164, 0.26235164, 0.26235164, 0.26235164,\n",
       "        0.26235164, 0.        , 0.        , 0.        , 0.        ,\n",
       "        0.        , 0.        , 0.        , 0.        , 0.        ,\n",
       "        0.        , 0.        , 0.        , 0.        , 0.        ,\n",
       "        0.        , 0.        , 0.        , 0.        , 0.        ,\n",
       "        0.26235164, 0.26235164, 0.        , 0.        , 0.21166365,\n",
       "        0.        , 0.        ]])"
      ]
     },
     "execution_count": 47,
     "metadata": {},
     "output_type": "execute_result"
    }
   ],
   "source": [
    "X.toarray()"
   ]
  },
  {
   "cell_type": "code",
   "execution_count": 48,
   "id": "8f240b9c-8855-45cf-b653-bc3c290a9ab5",
   "metadata": {},
   "outputs": [
    {
     "data": {
      "text/plain": [
       "(5, 77)"
      ]
     },
     "execution_count": 48,
     "metadata": {},
     "output_type": "execute_result"
    }
   ],
   "source": [
    "X.toarray().shape"
   ]
  },
  {
   "cell_type": "code",
   "execution_count": 49,
   "id": "2a3c33ea-767e-4c45-8ebc-fa2b28f38aeb",
   "metadata": {},
   "outputs": [
    {
     "data": {
      "text/plain": [
       "(77,)"
      ]
     },
     "execution_count": 49,
     "metadata": {},
     "output_type": "execute_result"
    }
   ],
   "source": [
    "vectorizer.get_feature_names_out().shape"
   ]
  },
  {
   "cell_type": "code",
   "execution_count": 50,
   "id": "e6750c53-1202-490a-9d2d-f57fd65fd0f8",
   "metadata": {},
   "outputs": [
    {
     "data": {
      "text/plain": [
       "array(['advanced', 'ai', 'aims', 'amounts', 'analyzing', 'artificial',\n",
       "       'assist', 'based', 'branch', 'broadly', 'capable', 'categorized',\n",
       "       'computer', 'create', 'data', 'datasets', 'deep', 'designed',\n",
       "       'diagnosing', 'diseases', 'domains', 'entertainment', 'evolved',\n",
       "       'field', 'finance', 'general', 'healthcare', 'human', 'image',\n",
       "       'including', 'industries', 'intelligence', 'language', 'learning',\n",
       "       'like', 'machine', 'manufacturing', 'mimic', 'models', 'multiple',\n",
       "       'narrow', 'natural', 'nlp', 'outbreaks', 'perception',\n",
       "       'performing', 'personalizing', 'plans', 'potential', 'powered',\n",
       "       'predicting', 'problem', 'process', 'processing', 'reasoning',\n",
       "       'recognition', 'reinforcement', 'require', 'revolutionized',\n",
       "       'rule', 'science', 'significantly', 'simple', 'solving',\n",
       "       'specific', 'speech', 'starting', 'systems', 'tasks',\n",
       "       'technologies', 'tools', 'treatment', 'typically', 'understanding',\n",
       "       'vast', 'vision', 'years'], dtype=object)"
      ]
     },
     "execution_count": 50,
     "metadata": {},
     "output_type": "execute_result"
    }
   ],
   "source": [
    "vectorizer.get_feature_names_out()"
   ]
  },
  {
   "cell_type": "code",
   "execution_count": 51,
   "id": "e49f01d4-fd27-473c-954e-223b571f85e1",
   "metadata": {},
   "outputs": [
    {
     "data": {
      "text/plain": [
       "{'artificial': 5,\n",
       " 'intelligence': 31,\n",
       " 'ai': 1,\n",
       " 'branch': 8,\n",
       " 'computer': 12,\n",
       " 'science': 60,\n",
       " 'aims': 2,\n",
       " 'create': 13,\n",
       " 'systems': 67,\n",
       " 'capable': 10,\n",
       " 'performing': 45,\n",
       " 'tasks': 68,\n",
       " 'typically': 72,\n",
       " 'require': 57,\n",
       " 'human': 27,\n",
       " 'learning': 33,\n",
       " 'reasoning': 54,\n",
       " 'problem': 51,\n",
       " 'solving': 63,\n",
       " 'perception': 44,\n",
       " 'language': 32,\n",
       " 'understanding': 73,\n",
       " 'evolved': 22,\n",
       " 'significantly': 61,\n",
       " 'years': 76,\n",
       " 'starting': 66,\n",
       " 'simple': 62,\n",
       " 'rule': 59,\n",
       " 'based': 7,\n",
       " 'advanced': 0,\n",
       " 'machine': 35,\n",
       " 'models': 38,\n",
       " 'process': 52,\n",
       " 'vast': 74,\n",
       " 'amounts': 3,\n",
       " 'data': 14,\n",
       " 'field': 23,\n",
       " 'broadly': 9,\n",
       " 'categorized': 11,\n",
       " 'narrow': 40,\n",
       " 'designed': 17,\n",
       " 'specific': 64,\n",
       " 'like': 34,\n",
       " 'image': 28,\n",
       " 'recognition': 55,\n",
       " 'speech': 65,\n",
       " 'processing': 53,\n",
       " 'general': 25,\n",
       " 'mimic': 37,\n",
       " 'multiple': 39,\n",
       " 'domains': 20,\n",
       " 'technologies': 69,\n",
       " 'natural': 41,\n",
       " 'nlp': 42,\n",
       " 'vision': 75,\n",
       " 'deep': 16,\n",
       " 'reinforcement': 56,\n",
       " 'revolutionized': 58,\n",
       " 'industries': 30,\n",
       " 'including': 29,\n",
       " 'healthcare': 26,\n",
       " 'finance': 24,\n",
       " 'manufacturing': 36,\n",
       " 'entertainment': 21,\n",
       " 'powered': 49,\n",
       " 'tools': 70,\n",
       " 'assist': 6,\n",
       " 'diagnosing': 18,\n",
       " 'diseases': 19,\n",
       " 'personalizing': 46,\n",
       " 'treatment': 71,\n",
       " 'plans': 47,\n",
       " 'predicting': 50,\n",
       " 'potential': 48,\n",
       " 'outbreaks': 43,\n",
       " 'analyzing': 4,\n",
       " 'datasets': 15}"
      ]
     },
     "execution_count": 51,
     "metadata": {},
     "output_type": "execute_result"
    }
   ],
   "source": [
    "vectorizer.vocabulary_"
   ]
  },
  {
   "cell_type": "code",
   "execution_count": null,
   "id": "6d00bb33-8721-45d7-a532-858710621d1d",
   "metadata": {},
   "outputs": [],
   "source": []
  }
 ],
 "metadata": {
  "kernelspec": {
   "display_name": "Python 3 (ipykernel)",
   "language": "python",
   "name": "python3"
  },
  "language_info": {
   "codemirror_mode": {
    "name": "ipython",
    "version": 3
   },
   "file_extension": ".py",
   "mimetype": "text/x-python",
   "name": "python",
   "nbconvert_exporter": "python",
   "pygments_lexer": "ipython3",
   "version": "3.12.5"
  }
 },
 "nbformat": 4,
 "nbformat_minor": 5
}
